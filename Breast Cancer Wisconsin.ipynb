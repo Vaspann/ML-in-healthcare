{
 "cells": [
  {
   "cell_type": "markdown",
   "id": "43b2e00e",
   "metadata": {},
   "source": [
    "# Breast Cancer Wisconsin\n",
    "We will be working on the Breast Cancer Wisconsin (Diagnostic) Data Set from UCI Machine Learning Repository. Each instance belongs to one of 2 possible classes: (2) benign or (4) malignant. "
   ]
  },
  {
   "cell_type": "code",
   "execution_count": 1,
   "id": "e182f61f",
   "metadata": {},
   "outputs": [],
   "source": [
    "# Import Dependencies\n",
    "\n",
    "%matplotlib inline\n",
    "import numpy as np\n",
    "import pandas as pd\n",
    "from pandas import read_csv\n",
    "from matplotlib import pyplot\n",
    "from sklearn.model_selection import train_test_split\n",
    "from sklearn.model_selection import cross_val_score\n",
    "from sklearn.model_selection import StratifiedKFold\n",
    "from sklearn.metrics import classification_report\n",
    "from sklearn.metrics import confusion_matrix\n",
    "from sklearn.metrics import accuracy_score\n",
    "from sklearn.linear_model import LogisticRegression\n",
    "from sklearn.discriminant_analysis import LinearDiscriminantAnalysis\n",
    "from sklearn.neighbors import KNeighborsClassifier\n",
    "from sklearn.tree import DecisionTreeClassifier\n",
    "from sklearn.naive_bayes import GaussianNB\n",
    "from sklearn.svm import SVC\n",
    "from sklearn.ensemble import GradientBoostingClassifier\n",
    "from sklearn.ensemble import RandomForestClassifier"
   ]
  },
  {
   "cell_type": "code",
   "execution_count": 2,
   "id": "4ed2b347",
   "metadata": {},
   "outputs": [],
   "source": [
    "#load the dataset\n",
    "\n",
    "url = 'https://archive.ics.uci.edu/ml/machine-learning-databases/breast-cancer-wisconsin/breast-cancer-wisconsin.data'\n",
    "\n",
    "names = ['Sample code number', 'Clump Thickness', 'Uniformity of Cell Size', 'Uniformity of Cell Shape', \n",
    "         'Marginal Adhesion','Single Epithelial Cell Size','Bare Nuclei','Bland Chromatin',\n",
    "         'Normal Nucleoli','Mitoses','Class']\n",
    "\n",
    "dataset = read_csv(url, names=names)"
   ]
  },
  {
   "cell_type": "code",
   "execution_count": 3,
   "id": "fe6f1db7",
   "metadata": {
    "scrolled": false
   },
   "outputs": [
    {
     "name": "stdout",
     "output_type": "stream",
     "text": [
      "(699, 11)\n",
      "   Sample code number  Clump Thickness  Uniformity of Cell Size  \\\n",
      "0             1000025                5                        1   \n",
      "1             1002945                5                        4   \n",
      "2             1015425                3                        1   \n",
      "3             1016277                6                        8   \n",
      "4             1017023                4                        1   \n",
      "5             1017122                8                       10   \n",
      "6             1018099                1                        1   \n",
      "7             1018561                2                        1   \n",
      "8             1033078                2                        1   \n",
      "9             1033078                4                        2   \n",
      "\n",
      "   Uniformity of Cell Shape  Marginal Adhesion  Single Epithelial Cell Size  \\\n",
      "0                         1                  1                            2   \n",
      "1                         4                  5                            7   \n",
      "2                         1                  1                            2   \n",
      "3                         8                  1                            3   \n",
      "4                         1                  3                            2   \n",
      "5                        10                  8                            7   \n",
      "6                         1                  1                            2   \n",
      "7                         2                  1                            2   \n",
      "8                         1                  1                            2   \n",
      "9                         1                  1                            2   \n",
      "\n",
      "  Bare Nuclei  Bland Chromatin  Normal Nucleoli  Mitoses  Class  \n",
      "0           1                3                1        1      2  \n",
      "1          10                3                2        1      2  \n",
      "2           2                3                1        1      2  \n",
      "3           4                3                7        1      2  \n",
      "4           1                3                1        1      2  \n",
      "5          10                9                7        1      4  \n",
      "6          10                3                1        1      2  \n",
      "7           1                3                1        1      2  \n",
      "8           1                1                1        5      2  \n",
      "9           1                2                1        1      2  \n"
     ]
    }
   ],
   "source": [
    "#Inspect\n",
    "print(dataset.shape)\n",
    "print(dataset.head(10))"
   ]
  },
  {
   "cell_type": "code",
   "execution_count": 4,
   "id": "fb69e1ed",
   "metadata": {},
   "outputs": [
    {
     "name": "stdout",
     "output_type": "stream",
     "text": [
      "       Sample code number  Clump Thickness  Uniformity of Cell Size  \\\n",
      "count        6.990000e+02       699.000000               699.000000   \n",
      "mean         1.071704e+06         4.417740                 3.134478   \n",
      "std          6.170957e+05         2.815741                 3.051459   \n",
      "min          6.163400e+04         1.000000                 1.000000   \n",
      "25%          8.706885e+05         2.000000                 1.000000   \n",
      "50%          1.171710e+06         4.000000                 1.000000   \n",
      "75%          1.238298e+06         6.000000                 5.000000   \n",
      "max          1.345435e+07        10.000000                10.000000   \n",
      "\n",
      "       Uniformity of Cell Shape  Marginal Adhesion  \\\n",
      "count                699.000000         699.000000   \n",
      "mean                   3.207439           2.806867   \n",
      "std                    2.971913           2.855379   \n",
      "min                    1.000000           1.000000   \n",
      "25%                    1.000000           1.000000   \n",
      "50%                    1.000000           1.000000   \n",
      "75%                    5.000000           4.000000   \n",
      "max                   10.000000          10.000000   \n",
      "\n",
      "       Single Epithelial Cell Size  Bland Chromatin  Normal Nucleoli  \\\n",
      "count                   699.000000       699.000000       699.000000   \n",
      "mean                      3.216023         3.437768         2.866953   \n",
      "std                       2.214300         2.438364         3.053634   \n",
      "min                       1.000000         1.000000         1.000000   \n",
      "25%                       2.000000         2.000000         1.000000   \n",
      "50%                       2.000000         3.000000         1.000000   \n",
      "75%                       4.000000         5.000000         4.000000   \n",
      "max                      10.000000        10.000000        10.000000   \n",
      "\n",
      "          Mitoses       Class  \n",
      "count  699.000000  699.000000  \n",
      "mean     1.589413    2.689557  \n",
      "std      1.715078    0.951273  \n",
      "min      1.000000    2.000000  \n",
      "25%      1.000000    2.000000  \n",
      "50%      1.000000    2.000000  \n",
      "75%      1.000000    4.000000  \n",
      "max     10.000000    4.000000  \n"
     ]
    }
   ],
   "source": [
    "#Summary Statistics\n",
    "print(dataset.describe())"
   ]
  },
  {
   "cell_type": "markdown",
   "id": "a60c6e0f",
   "metadata": {},
   "source": [
    "#### Missing Values\n",
    "\n",
    "There are 16 instances that contain a single missing  (i.e., unavailable) attribute value, now denoted by \"?\".  \n"
   ]
  },
  {
   "cell_type": "code",
   "execution_count": 5,
   "id": "8d33cb18",
   "metadata": {},
   "outputs": [
    {
     "data": {
      "text/plain": [
       "Sample code number              int64\n",
       "Clump Thickness                 int64\n",
       "Uniformity of Cell Size         int64\n",
       "Uniformity of Cell Shape        int64\n",
       "Marginal Adhesion               int64\n",
       "Single Epithelial Cell Size     int64\n",
       "Bare Nuclei                    object\n",
       "Bland Chromatin                 int64\n",
       "Normal Nucleoli                 int64\n",
       "Mitoses                         int64\n",
       "Class                           int64\n",
       "dtype: object"
      ]
     },
     "execution_count": 5,
     "metadata": {},
     "output_type": "execute_result"
    }
   ],
   "source": [
    "dataset.dtypes"
   ]
  },
  {
   "cell_type": "code",
   "execution_count": 6,
   "id": "c01873d1",
   "metadata": {},
   "outputs": [],
   "source": [
    "present = dataset['Bare Nuclei'] != '?'"
   ]
  },
  {
   "cell_type": "code",
   "execution_count": 7,
   "id": "a0a05d89",
   "metadata": {},
   "outputs": [
    {
     "data": {
      "text/plain": [
       "0    True\n",
       "1    True\n",
       "2    True\n",
       "3    True\n",
       "4    True\n",
       "Name: Bare Nuclei, dtype: bool"
      ]
     },
     "execution_count": 7,
     "metadata": {},
     "output_type": "execute_result"
    }
   ],
   "source": [
    "present.head()"
   ]
  },
  {
   "cell_type": "code",
   "execution_count": 8,
   "id": "68778ea4",
   "metadata": {},
   "outputs": [
    {
     "name": "stdout",
     "output_type": "stream",
     "text": [
      "699\n",
      "683\n"
     ]
    }
   ],
   "source": [
    "#Remove '?'\n",
    "df = dataset[present] \n",
    "print(len(dataset))\n",
    "print(len(df))"
   ]
  },
  {
   "cell_type": "code",
   "execution_count": 9,
   "id": "766a85f7",
   "metadata": {},
   "outputs": [
    {
     "name": "stdout",
     "output_type": "stream",
     "text": [
      "<class 'pandas.core.frame.DataFrame'>\n",
      "Int64Index: 683 entries, 0 to 698\n",
      "Data columns (total 11 columns):\n",
      " #   Column                       Non-Null Count  Dtype \n",
      "---  ------                       --------------  ----- \n",
      " 0   Sample code number           683 non-null    int64 \n",
      " 1   Clump Thickness              683 non-null    int64 \n",
      " 2   Uniformity of Cell Size      683 non-null    int64 \n",
      " 3   Uniformity of Cell Shape     683 non-null    int64 \n",
      " 4   Marginal Adhesion            683 non-null    int64 \n",
      " 5   Single Epithelial Cell Size  683 non-null    int64 \n",
      " 6   Bare Nuclei                  683 non-null    object\n",
      " 7   Bland Chromatin              683 non-null    int64 \n",
      " 8   Normal Nucleoli              683 non-null    int64 \n",
      " 9   Mitoses                      683 non-null    int64 \n",
      " 10  Class                        683 non-null    int64 \n",
      "dtypes: int64(10), object(1)\n",
      "memory usage: 64.0+ KB\n"
     ]
    }
   ],
   "source": [
    "df.info()"
   ]
  },
  {
   "cell_type": "code",
   "execution_count": 10,
   "id": "d49f9bc0",
   "metadata": {},
   "outputs": [
    {
     "data": {
      "text/plain": [
       "Sample code number             int64\n",
       "Clump Thickness                int64\n",
       "Uniformity of Cell Size        int64\n",
       "Uniformity of Cell Shape       int64\n",
       "Marginal Adhesion              int64\n",
       "Single Epithelial Cell Size    int64\n",
       "Bare Nuclei                    int64\n",
       "Bland Chromatin                int64\n",
       "Normal Nucleoli                int64\n",
       "Mitoses                        int64\n",
       "Class                          int64\n",
       "dtype: object"
      ]
     },
     "execution_count": 10,
     "metadata": {},
     "output_type": "execute_result"
    }
   ],
   "source": [
    "#Convert all variables to int\n",
    "df.astype('int64').dtypes"
   ]
  },
  {
   "cell_type": "markdown",
   "id": "db9d8b44",
   "metadata": {},
   "source": [
    "#### Target Variable"
   ]
  },
  {
   "cell_type": "code",
   "execution_count": 11,
   "id": "4110666a",
   "metadata": {},
   "outputs": [
    {
     "name": "stdout",
     "output_type": "stream",
     "text": [
      "Class\n",
      "2    444\n",
      "4    239\n",
      "dtype: int64\n"
     ]
    }
   ],
   "source": [
    "#Target variable distribution\n",
    "print(df.groupby('Class').size())"
   ]
  },
  {
   "cell_type": "code",
   "execution_count": 13,
   "id": "790bebaa",
   "metadata": {},
   "outputs": [],
   "source": [
    "df.Class = df.Class.astype(str)\n",
    "df.Class = df.Class.astype('category')"
   ]
  },
  {
   "cell_type": "markdown",
   "id": "3b5e8c44",
   "metadata": {},
   "source": [
    "#### Train & Test set"
   ]
  },
  {
   "cell_type": "code",
   "execution_count": 15,
   "id": "7648640f",
   "metadata": {},
   "outputs": [],
   "source": [
    "# Split-out validation dataset\n",
    "array = df.values\n",
    "#Omit 'Sample code number' attribute\n",
    "X = array[:,1:10]\n",
    "y = array[:,10]\n",
    "X_train, X_test, Y_train, Y_test = train_test_split(X, y, test_size=0.20, random_state=123)"
   ]
  },
  {
   "cell_type": "markdown",
   "id": "6eedb80d",
   "metadata": {},
   "source": [
    "#### Build Models"
   ]
  },
  {
   "cell_type": "code",
   "execution_count": 16,
   "id": "2b183c74",
   "metadata": {},
   "outputs": [
    {
     "name": "stdout",
     "output_type": "stream",
     "text": [
      "LR: 0.965253 (0.025012)\n",
      "LDA: 0.954209 (0.022038)\n",
      "KNN: 0.974411 (0.014564)\n",
      "CART: 0.944983 (0.021861)\n",
      "NB: 0.956061 (0.021974)\n",
      "SVM: 0.959731 (0.024439)\n",
      "GBM: 0.970741 (0.016629)\n",
      "RF: 0.972492 (0.016930)\n"
     ]
    }
   ],
   "source": [
    "# Spot Check Algorithms\n",
    "models = []\n",
    "models.append(('LR', LogisticRegression(solver='liblinear')))\n",
    "models.append(('LDA', LinearDiscriminantAnalysis()))\n",
    "models.append(('KNN', KNeighborsClassifier()))\n",
    "models.append(('CART', DecisionTreeClassifier()))\n",
    "models.append(('NB', GaussianNB()))\n",
    "models.append(('SVM', SVC(gamma='auto')))\n",
    "models.append(('GBM', GradientBoostingClassifier()))\n",
    "models.append(('RF', RandomForestClassifier()))\n",
    "# evaluate each model in turn\n",
    "results = []\n",
    "names = []\n",
    "for name, model in models:\n",
    "    kfold = StratifiedKFold(n_splits=10, random_state=123, shuffle=True)\n",
    "    cv_results = cross_val_score(model, X_train, Y_train, cv=kfold, scoring='accuracy')\n",
    "    results.append(cv_results)\n",
    "    names.append(name)\n",
    "    print('%s: %f (%f)' % (name, cv_results.mean(), cv_results.std()))"
   ]
  },
  {
   "cell_type": "code",
   "execution_count": 17,
   "id": "9fd8bc6b",
   "metadata": {},
   "outputs": [
    {
     "data": {
      "image/png": "[encoded data removed]",
      "text/plain": [
       "<Figure size 432x288 with 1 Axes>"
      ]
     },
     "metadata": {
      "needs_background": "light"
     },
     "output_type": "display_data"
    }
   ],
   "source": [
    "# Compare Algorithms\n",
    "pyplot.boxplot(results, labels=names)\n",
    "pyplot.title('Algorithm Comparison')\n",
    "pyplot.show()"
   ]
  },
  {
   "cell_type": "markdown",
   "id": "85ea7660",
   "metadata": {},
   "source": [
    "#### Predict on Test Set"
   ]
  },
  {
   "cell_type": "code",
   "execution_count": 18,
   "id": "086318dd",
   "metadata": {},
   "outputs": [],
   "source": [
    "#Implement the best model (knn)\n",
    "knn_model = KNeighborsClassifier()\n",
    "knn_model.fit(X_train, Y_train)\n",
    "pred = knn_model.predict(X_test)"
   ]
  },
  {
   "cell_type": "code",
   "execution_count": 19,
   "id": "c64fbaea",
   "metadata": {},
   "outputs": [
    {
     "name": "stdout",
     "output_type": "stream",
     "text": [
      "0.9854014598540146\n",
      "[[88  2]\n",
      " [ 0 47]]\n",
      "              precision    recall  f1-score   support\n",
      "\n",
      "           2       1.00      0.98      0.99        90\n",
      "           4       0.96      1.00      0.98        47\n",
      "\n",
      "    accuracy                           0.99       137\n",
      "   macro avg       0.98      0.99      0.98       137\n",
      "weighted avg       0.99      0.99      0.99       137\n",
      "\n"
     ]
    }
   ],
   "source": [
    "# Evaluate predictions\n",
    "print(accuracy_score(Y_test, pred))\n",
    "print(confusion_matrix(Y_test, pred))\n",
    "print(classification_report(Y_test, pred))"
   ]
  }
 ],
 "metadata": {
  "kernelspec": {
   "display_name": "Python 3",
   "language": "python",
   "name": "python3"
  },
  "language_info": {
   "codemirror_mode": {
    "name": "ipython",
    "version": 3
   },
   "file_extension": ".py",
   "mimetype": "text/x-python",
   "name": "python",
   "nbconvert_exporter": "python",
   "pygments_lexer": "ipython3",
   "version": "3.6.13"
  }
 },
 "nbformat": 4,
 "nbformat_minor": 5
}
